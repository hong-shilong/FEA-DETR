{
 "cells": [
  {
   "cell_type": "code",
   "execution_count": 2,
   "id": "1fb129a5-3803-409e-b3b5-887f6a76f27e",
   "metadata": {},
   "outputs": [],
   "source": [
    "a = range(3 - 1, 0, -1)"
   ]
  },
  {
   "cell_type": "code",
   "execution_count": 4,
   "id": "94e502f9-e5d2-4a05-9fee-3dae5033c76f",
   "metadata": {},
   "outputs": [
    {
     "name": "stdout",
     "output_type": "stream",
     "text": [
      "2\n",
      "1\n"
     ]
    }
   ],
   "source": [
    "for i in a:\n",
    "    print(i)"
   ]
  },
  {
   "cell_type": "code",
   "execution_count": null,
   "id": "bcb1bc18-fde5-4313-a656-e45b1370370c",
   "metadata": {},
   "outputs": [],
   "source": []
  }
 ],
 "metadata": {
  "kernelspec": {
   "display_name": "Python 3 (ipykernel)",
   "language": "python",
   "name": "python3"
  },
  "language_info": {
   "codemirror_mode": {
    "name": "ipython",
    "version": 3
   },
   "file_extension": ".py",
   "mimetype": "text/x-python",
   "name": "python",
   "nbconvert_exporter": "python",
   "pygments_lexer": "ipython3",
   "version": "3.8.18"
  }
 },
 "nbformat": 4,
 "nbformat_minor": 5
}
